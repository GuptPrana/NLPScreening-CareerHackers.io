{
  "nbformat": 4,
  "nbformat_minor": 0,
  "metadata": {
    "colab": {
      "name": "EditDistance.ipynb",
      "provenance": [],
      "collapsed_sections": []
    },
    "kernelspec": {
      "name": "python3",
      "display_name": "Python 3"
    },
    "language_info": {
      "name": "python"
    }
  },
  "cells": [
    {
      "cell_type": "markdown",
      "source": [
        "##**Compute Levenshtein Distance between Text and Key Words for Spam Classification** "
      ],
      "metadata": {
        "id": "LjPh7W9aDL4q"
      }
    },
    {
      "cell_type": "code",
      "execution_count": 40,
      "metadata": {
        "colab": {
          "base_uri": "https://localhost:8080/"
        },
        "id": "RDCyAkWDDJIa",
        "outputId": "b1d0778b-cd3f-40ee-82f2-1cc26ce32fa0"
      },
      "outputs": [
        {
          "output_type": "stream",
          "name": "stdout",
          "text": [
            "Looking in indexes: https://pypi.org/simple, https://us-python.pkg.dev/colab-wheels/public/simple/\n",
            "Requirement already satisfied: nltk in /usr/local/lib/python3.7/dist-packages (3.7)\n",
            "Requirement already satisfied: click in /usr/local/lib/python3.7/dist-packages (from nltk) (7.1.2)\n",
            "Requirement already satisfied: joblib in /usr/local/lib/python3.7/dist-packages (from nltk) (1.1.0)\n",
            "Requirement already satisfied: tqdm in /usr/local/lib/python3.7/dist-packages (from nltk) (4.64.0)\n",
            "Requirement already satisfied: regex>=2021.8.3 in /usr/local/lib/python3.7/dist-packages (from nltk) (2022.6.2)\n",
            "Looking in indexes: https://pypi.org/simple, https://us-python.pkg.dev/colab-wheels/public/simple/\n",
            "Requirement already satisfied: python-Levenshtein in /usr/local/lib/python3.7/dist-packages (0.12.2)\n",
            "Requirement already satisfied: setuptools in /usr/local/lib/python3.7/dist-packages (from python-Levenshtein) (57.4.0)\n"
          ]
        }
      ],
      "source": [
        "!pip install nltk\n",
        "!pip install python-Levenshtein"
      ]
    },
    {
      "cell_type": "code",
      "source": [
        "from Levenshtein import distance as lev\n",
        "import nltk\n",
        "nltk.download('punkt')\n",
        "nltk.download('stopwords')"
      ],
      "metadata": {
        "colab": {
          "base_uri": "https://localhost:8080/"
        },
        "id": "kUSa4ZcXDti9",
        "outputId": "32668dc1-a1d9-47f3-f01e-da140e45a00e"
      },
      "execution_count": 41,
      "outputs": [
        {
          "output_type": "stream",
          "name": "stderr",
          "text": [
            "[nltk_data] Downloading package punkt to /root/nltk_data...\n",
            "[nltk_data]   Package punkt is already up-to-date!\n",
            "[nltk_data] Downloading package stopwords to /root/nltk_data...\n",
            "[nltk_data]   Package stopwords is already up-to-date!\n"
          ]
        },
        {
          "output_type": "execute_result",
          "data": {
            "text/plain": [
              "True"
            ]
          },
          "metadata": {},
          "execution_count": 41
        }
      ]
    },
    {
      "cell_type": "markdown",
      "source": [
        "## Define Keywords and Corpus"
      ],
      "metadata": {
        "id": "KamMwVcU0j3I"
      }
    },
    {
      "cell_type": "code",
      "source": [
        "# Define the Keywords for Levenshtein Distance\n",
        "keywords = {\n",
        "\"AST_Task2\":[\"covid\",\n",
        "\"vaccine\", \n",
        "\"production\", \n",
        "\"mrna\",\n",
        "\"manufacturing\",\n",
        "\"chain\",\n",
        "\"management\", \n",
        "\"operations\", \n",
        "\"rd\", \n",
        "\"research\", \n",
        "\"development\",\n",
        "\"pfizer\",\n",
        "\"moderna\",\n",
        "\"biontech\",\n",
        "\"lonza\",\n",
        "\"sanofi\", \n",
        "\"curevac\", \n",
        "\"csl\",\n",
        "\"luniabio\", \n",
        "\"knowledge\", \n",
        "\"gap\"], \n",
        "\"AST_Task3\":\n",
        "[\"covid\",\n",
        "\"vaccine\", \n",
        "\"production\", \n",
        "\"mrna\",\n",
        "\"manufacturing\",\n",
        "\"chain\",\n",
        "\"management\", \n",
        "\"operations\", \n",
        "\"rd\", \n",
        "\"research\", \n",
        "\"development\",\n",
        "\"pfizer\",\n",
        "\"moderna\",\n",
        "\"biontech\",\n",
        "\"lonza\",\n",
        "\"sanofi\", \n",
        "\"curevac\", \n",
        "\"csl\",\n",
        "\"luniabio\", \n",
        "\"knowledge\", \n",
        "\"gap\"], \n",
        "\"AST_Task4\":\n",
        "[\"alpha\",\n",
        "\"sights\",\n",
        "\"mr\",\n",
        "\"ms\",\n",
        "\"dr\",\n",
        "\"prof\",\n",
        "\"sir\",\n",
        "\"madam\",\n",
        "\"alphasights\",\n",
        "\"dear\",\n",
        "\"concern\",\n",
        "\"yours\",\n",
        "\"truly\",\n",
        "\"faithfully\",\n",
        "\"sincerely\",\n",
        "\"regards\",\n",
        "\"project\",\n",
        "\"covid\",\n",
        "\"manufacture\",\n",
        "\"mrna\",\n",
        "\"vaccine\",\n",
        "\"consultation\", \n",
        "\"call\",\n",
        "\"chain\",\n",
        "\"management\", \n",
        "\"operations\",\n",
        "\"rd\", \n",
        "\"research\"\n",
        "]}"
      ],
      "metadata": {
        "id": "jqO4Een9D6Wh"
      },
      "execution_count": 49,
      "outputs": []
    },
    {
      "cell_type": "code",
      "source": [
        "# Define the corpus to test\n",
        "corpus = 'CountVectorizer is a great tool provided by the scikit-learn library in Python. It is used to transform a given text into a vector on the basis of the frequency (count) of each word that occurs in the entire text. This is helpful when we have multiple such texts, and we wish to convert each word in each text into vectors (for using in further text analysis). Let us consider a few sample texts from a document (each as a list element):'"
      ],
      "metadata": {
        "id": "2QmPPP1clG3f"
      },
      "execution_count": 50,
      "outputs": []
    },
    {
      "cell_type": "markdown",
      "source": [
        "### Preprocessing - Remove Punctuations and Stemming"
      ],
      "metadata": {
        "id": "QJk1eSKxD8MW"
      }
    },
    {
      "cell_type": "code",
      "source": [
        "import string\n",
        "import numpy as np\n",
        "from nltk import word_tokenize\n",
        "from nltk.corpus import stopwords\n",
        "from nltk.stem.porter import PorterStemmer\n",
        "from sklearn.feature_extraction.text import CountVectorizer\n",
        "\n",
        "# Lowercase\n",
        "corpus = corpus.lower()\n",
        "\n",
        "# Punctuations\n",
        "corpus_alpha = \"\".join([char for char in corpus if char not in string.punctuation])\n",
        "\n",
        "# Tokenization\n",
        "words = word_tokenize(corpus_alpha)\n",
        "\n",
        "# Stopword Filtering\n",
        "stop_words = set(stopwords.words('english'))\n",
        "filteredWords = [word for word in words if not word in stop_words]\n",
        "\n",
        "# Stemming\n",
        "# Optional - We can compare with and without Stemming\n",
        "stemmer = PorterStemmer()\n",
        "stemmedWords = [stemmer.stem(word) for word in filteredWords]"
      ],
      "metadata": {
        "id": "zICm-NVxgBI9"
      },
      "execution_count": 51,
      "outputs": []
    },
    {
      "cell_type": "code",
      "source": [
        "# Visualize the words\n",
        "print(\"FilteredWords\")\n",
        "print(filteredWords)\n",
        "print(\"StemmedWords\")\n",
        "print(stemmedWords)"
      ],
      "metadata": {
        "colab": {
          "base_uri": "https://localhost:8080/"
        },
        "id": "hlezXgP350t4",
        "outputId": "a1bcc925-91a3-496a-e63d-80ac6263df0b"
      },
      "execution_count": 52,
      "outputs": [
        {
          "output_type": "stream",
          "name": "stdout",
          "text": [
            "FilteredWords\n",
            "['countvectorizer', 'great', 'tool', 'provided', 'scikitlearn', 'library', 'python', 'used', 'transform', 'given', 'text', 'vector', 'basis', 'frequency', 'count', 'word', 'occurs', 'entire', 'text', 'helpful', 'multiple', 'texts', 'wish', 'convert', 'word', 'text', 'vectors', 'using', 'text', 'analysis', 'let', 'us', 'consider', 'sample', 'texts', 'document', 'list', 'element']\n",
            "StemmedWords\n",
            "['countvector', 'great', 'tool', 'provid', 'scikitlearn', 'librari', 'python', 'use', 'transform', 'given', 'text', 'vector', 'basi', 'frequenc', 'count', 'word', 'occur', 'entir', 'text', 'help', 'multipl', 'text', 'wish', 'convert', 'word', 'text', 'vector', 'use', 'text', 'analysi', 'let', 'us', 'consid', 'sampl', 'text', 'document', 'list', 'element']\n"
          ]
        }
      ]
    },
    {
      "cell_type": "markdown",
      "source": [
        "## Generate Levenshtein Matrix"
      ],
      "metadata": {
        "id": "evoFzoylztcr"
      }
    },
    {
      "cell_type": "code",
      "source": [
        "print(\"FilteredWords\")\n",
        "count0=0\n",
        "count1=0\n",
        "count2=0\n",
        "count3=0\n",
        "levMatrix = np.zeros((len(filteredWords),len(keywords['AST_Task2'])))\n",
        "for text_word in range(len(filteredWords)):\n",
        "  for key_word in range(len(keywords['AST_Task2'])):\n",
        "    lev_dist = lev(filteredWords[text_word], keywords['AST_Task2'][key_word])\n",
        "    levMatrix[text_word][key_word] = lev_dist\n",
        "    if lev_dist == 0:\n",
        "      count0 += 1\n",
        "    if lev_dist == 1:\n",
        "      count1 += 1\n",
        "    if lev_dist == 2:\n",
        "      count2 += 1\n",
        "    if lev_dist == 3:\n",
        "      count3 += 1\n",
        "\n",
        "print(np.matrix(levMatrix))\n",
        "print(\".......................................................................\")\n",
        "\n",
        "print(\"StemmedWords\")\n",
        "counts0=0\n",
        "counts1=0\n",
        "counts2=0\n",
        "counts3=0\n",
        "levMatrix = np.zeros((len(stemmedWords),len(keywords['AST_Task2'])))\n",
        "for text_word in range(len(stemmedWords)):\n",
        "  for key_word in range(len(keywords['AST_Task2'])):\n",
        "    lev_dist = lev(stemmedWords[text_word], keywords['AST_Task2'][key_word])\n",
        "    levMatrix[text_word][key_word] = lev_dist\n",
        "    if lev_dist == 0:\n",
        "      counts0 += 1\n",
        "    if lev_dist == 1:\n",
        "      counts1 += 1\n",
        "    if lev_dist == 2:\n",
        "      counts2 += 1\n",
        "    if lev_dist == 3:\n",
        "      counts3 += 1\n",
        "\n",
        "print(np.matrix(levMatrix))\n",
        "print(\".......................................................................\")\n",
        "print(\"FilteredWords\")\n",
        "print(\"Edit Distance Count: 0: {}, 1: {}, 2: {}, 3: {}\".format(count0, count1, count2, count3))\n",
        "print(\"StemmedWords\")\n",
        "print(\"Edit Distance Count: 0: {}, 1: {}, 2: {}, 3: {}\".format(counts0, counts1, counts2, counts3))"
      ],
      "metadata": {
        "colab": {
          "base_uri": "https://localhost:8080/"
        },
        "id": "JvZGVigFhtsV",
        "outputId": "84f931a5-4215-4bdb-ec82-9e88e098e65b"
      },
      "execution_count": 53,
      "outputs": [
        {
          "output_type": "stream",
          "name": "stdout",
          "text": [
            "FilteredWords\n",
            "[[11. 11. 12. 14. 10. 13. 13. 12. 14. 13. 12. 11. 12. 11. 12. 12. 11. 14.\n",
            "  12. 13. 15.]\n",
            " [ 5.  7.  8.  3. 11.  5.  7.  7.  4.  6.  9.  6.  6.  7.  5.  6.  4.  5.\n",
            "   7.  8.  3.]\n",
            " [ 4.  7.  8.  4. 12.  5. 10.  8.  4.  8. 10.  6.  6.  7.  4.  5.  7.  3.\n",
            "   8.  7.  4.]\n",
            " [ 4.  6.  7.  7. 13.  7.  9.  7.  6.  8. 10.  5.  7.  7.  7.  7.  7.  8.\n",
            "   8.  7.  8.]\n",
            " [ 9.  9. 10. 10. 11.  8. 10. 10. 10.  9. 11.  8.  9.  8. 10. 10.  9.  9.\n",
            "  10.  9. 10.]\n",
            " [ 7.  7. 10.  6. 11.  6. 10.  8.  6.  6. 10.  6.  7.  7.  5.  7.  7.  7.\n",
            "   6.  9.  6.]\n",
            " [ 6.  6.  6.  6. 11.  5.  9.  6.  6.  8.  9.  5.  6.  7.  6.  6.  7.  6.\n",
            "   8.  9.  6.]\n",
            " [ 4.  7.  9.  4. 12.  5.  9.  9.  3.  6. 10.  5.  6.  7.  5.  6.  5.  3.\n",
            "   7.  7.  4.]\n",
            " [ 9.  8.  9.  7. 10.  8.  9.  8.  8.  7. 10.  8.  9.  8.  8.  6.  9.  8.\n",
            "   8.  9.  8.]\n",
            " [ 4.  6.  9.  5. 12.  4.  7.  9.  5.  7.  8.  4.  5.  6.  5.  6.  6.  5.\n",
            "   7.  8.  4.]\n",
            " [ 5.  7.  9.  4. 12.  5.  8.  8.  4.  7.  9.  6.  6.  6.  5.  6.  6.  4.\n",
            "   8.  8.  4.]\n",
            " [ 6.  5.  7.  6. 10.  6.  9.  7.  6.  6.  9.  5.  7.  7.  6.  6.  7.  5.\n",
            "   8.  9.  6.]\n",
            " [ 4.  5.  9.  5. 11.  4.  9.  7.  5.  7. 11.  6.  7.  7.  5.  5.  7.  4.\n",
            "   6.  9.  4.]\n",
            " [ 9.  8.  8.  7. 11.  8.  9.  9.  8.  6.  9.  8.  8.  7.  8.  9.  7.  9.\n",
            "   9.  8.  9.]\n",
            " [ 3.  5.  7.  4. 10.  4.  8.  9.  5.  8.  8.  6.  5.  6.  4.  6.  6.  4.\n",
            "   7.  8.  5.]\n",
            " [ 3.  7.  9.  4. 12.  5. 10.  9.  2.  7. 10.  6.  5.  7.  4.  5.  6.  4.\n",
            "   8.  7.  4.]\n",
            " [ 5.  5.  8.  6. 10.  5. 10.  8.  5.  7. 10.  6.  6.  7.  6.  6.  6.  5.\n",
            "   8.  8.  6.]\n",
            " [ 5.  5.  8.  6. 10.  5.  8.  7.  5.  6.  9.  5.  6.  6.  6.  6.  7.  6.\n",
            "   7.  7.  6.]\n",
            " [ 5.  7.  9.  4. 12.  5.  8.  8.  4.  7.  9.  6.  6.  6.  5.  6.  6.  4.\n",
            "   8.  8.  4.]\n",
            " [ 7.  7. 10.  7. 11.  7. 10.  9.  7.  7.  8.  7.  7.  8.  6.  6.  7.  6.\n",
            "   8.  8.  6.]\n",
            " [ 7.  6.  8.  7. 10.  7.  8.  8.  8.  8.  9.  7.  7.  8.  7.  8.  7.  7.\n",
            "   7.  8.  7.]\n",
            " [ 5.  7.  9.  5. 12.  5.  9.  7.  5.  7. 10.  6.  6.  7.  5.  6.  6.  5.\n",
            "   8.  8.  5.]\n",
            " [ 5.  6.  9.  4. 12.  5. 10.  9.  4.  6. 11.  5.  7.  6.  5.  6.  7.  3.\n",
            "   7.  8.  4.]\n",
            " [ 4.  7.  9.  6. 11.  6.  7.  8.  6.  7.  8.  5.  5.  5.  5.  6.  6.  6.\n",
            "   7.  7.  7.]\n",
            " [ 3.  7.  9.  4. 12.  5. 10.  9.  2.  7. 10.  6.  5.  7.  4.  5.  6.  4.\n",
            "   8.  7.  4.]\n",
            " [ 5.  7.  9.  4. 12.  5.  8.  8.  4.  7.  9.  6.  6.  6.  5.  6.  6.  4.\n",
            "   8.  8.  4.]\n",
            " [ 6.  5.  8.  7. 10.  6. 10.  6.  6.  6.  9.  6.  7.  7.  7.  6.  7.  6.\n",
            "   8.  9.  7.]\n",
            " [ 5.  5.  8.  4.  9.  4.  9.  8.  5.  7. 10.  5.  6.  7.  5.  5.  6.  4.\n",
            "   6.  8.  5.]\n",
            " [ 5.  7.  9.  4. 12.  5.  8.  8.  4.  7.  9.  6.  6.  6.  5.  6.  6.  4.\n",
            "   8.  8.  4.]\n",
            " [ 7.  7.  9.  7.  9.  6.  7.  8.  8.  8. 10.  8.  8.  8.  7.  6.  8.  7.\n",
            "   7.  7.  7.]\n",
            " [ 5.  7.  9.  4. 12.  5.  8.  8.  3.  7.  8.  5.  6.  7.  4.  6.  6.  3.\n",
            "   7.  7.  3.]\n",
            " [ 5.  7.  9.  4. 12.  5. 10.  9.  2.  7. 11.  6.  7.  8.  5.  6.  6.  2.\n",
            "   7.  9.  3.]\n",
            " [ 4.  6.  9.  7. 11.  6.  8.  9.  7.  8. 10.  5.  6.  7.  6.  7.  7.  6.\n",
            "   7.  7.  8.]\n",
            " [ 6.  5. 10.  5. 12.  6.  8.  9.  6.  7.  9.  6.  7.  7.  6.  4.  7.  5.\n",
            "   8.  7.  4.]\n",
            " [ 5.  7.  9.  5. 12.  5.  9.  7.  5.  7. 10.  6.  6.  7.  5.  6.  6.  5.\n",
            "   8.  8.  5.]\n",
            " [ 7.  6.  8.  6. 10.  6.  6.  9.  8.  8.  6.  7.  6.  7.  7.  8.  6.  7.\n",
            "   8.  8.  8.]\n",
            " [ 5.  6.  9.  4. 12.  5.  9.  9.  4.  7.  9.  5.  7.  6.  4.  6.  7.  3.\n",
            "   6.  8.  4.]\n",
            " [ 7.  6.  9.  5. 12.  6.  5.  8.  7.  6.  5.  6.  6.  7.  6.  7.  7.  7.\n",
            "   8.  8.  7.]]\n",
            ".......................................................................\n",
            "StemmedWords\n",
            "[[ 8. 10.  9. 10. 10. 10.  9. 10. 11. 10. 11.  9.  9.  7.  9. 10.  7. 10.\n",
            "   8. 10. 11.]\n",
            " [ 5.  7.  8.  3. 11.  5.  7.  7.  4.  6.  9.  6.  6.  7.  5.  6.  4.  5.\n",
            "   7.  8.  3.]\n",
            " [ 4.  7.  8.  4. 12.  5. 10.  8.  4.  8. 10.  6.  6.  7.  4.  5.  7.  3.\n",
            "   8.  7.  4.]\n",
            " [ 2.  6.  6.  5. 12.  5. 10.  7.  4.  8. 10.  5.  7.  7.  5.  5.  5.  6.\n",
            "   7.  7.  6.]\n",
            " [ 9.  9. 10. 10. 11.  8. 10. 10. 10.  9. 11.  8.  9.  8. 10. 10.  9.  9.\n",
            "  10.  9. 10.]\n",
            " [ 7.  7.  9.  6. 10.  6. 10.  7.  6.  6. 10.  6.  7.  7.  5.  6.  7.  7.\n",
            "   5.  9.  6.]\n",
            " [ 6.  6.  6.  6. 11.  5.  9.  6.  6.  8.  9.  5.  6.  7.  6.  6.  7.  6.\n",
            "   8.  9.  6.]\n",
            " [ 5.  6.  9.  4. 12.  5.  9.  9.  3.  6. 10.  5.  6.  7.  5.  6.  5.  2.\n",
            "   7.  8.  3.]\n",
            " [ 9.  8.  9.  7. 10.  8.  9.  8.  8.  7. 10.  8.  9.  8.  8.  6.  9.  8.\n",
            "   8.  9.  8.]\n",
            " [ 4.  6.  9.  5. 12.  4.  7.  9.  5.  7.  8.  4.  5.  6.  5.  6.  6.  5.\n",
            "   7.  8.  4.]\n",
            " [ 5.  7.  9.  4. 12.  5.  8.  8.  4.  7.  9.  6.  6.  6.  5.  6.  6.  4.\n",
            "   8.  8.  4.]\n",
            " [ 6.  5.  7.  6. 10.  6.  9.  7.  6.  6.  9.  5.  7.  7.  6.  6.  7.  5.\n",
            "   8.  9.  6.]\n",
            " [ 4.  5.  9.  4. 11.  4.  9.  8.  4.  7. 11.  6.  7.  7.  5.  4.  7.  3.\n",
            "   6.  9.  3.]\n",
            " [ 8.  7.  8.  6. 10.  7.  8.  8.  7.  6.  8.  7.  7.  7.  8.  8.  6.  8.\n",
            "   8.  8.  8.]\n",
            " [ 3.  5.  7.  4. 10.  4.  8.  9.  5.  8.  8.  6.  5.  6.  4.  6.  6.  4.\n",
            "   7.  8.  5.]\n",
            " [ 3.  7.  9.  4. 12.  5. 10.  9.  2.  7. 10.  6.  5.  7.  4.  5.  6.  4.\n",
            "   8.  7.  4.]\n",
            " [ 5.  5.  8.  5. 10.  5. 10.  9.  5.  7. 10.  5.  6.  7.  5.  6.  6.  4.\n",
            "   8.  8.  5.]\n",
            " [ 4.  6.  8.  5. 10.  4.  9.  7.  5.  6. 10.  5.  6.  6.  5.  5.  7.  5.\n",
            "   6.  8.  5.]\n",
            " [ 5.  7.  9.  4. 12.  5.  8.  8.  4.  7.  9.  6.  6.  6.  5.  6.  6.  4.\n",
            "   8.  8.  4.]\n",
            " [ 5.  7. 10.  4. 13.  4.  9.  9.  4.  7.  8.  6.  6.  7.  5.  6.  6.  3.\n",
            "   8.  8.  3.]\n",
            " [ 6.  6.  7.  6.  9.  6.  9.  8.  7.  8. 10.  7.  6.  7.  6.  7.  6.  6.\n",
            "   7.  8.  6.]\n",
            " [ 5.  7.  9.  4. 12.  5.  8.  8.  4.  7.  9.  6.  6.  6.  5.  6.  6.  4.\n",
            "   8.  8.  4.]\n",
            " [ 5.  6.  9.  4. 12.  5. 10.  9.  4.  6. 11.  5.  7.  6.  5.  6.  7.  3.\n",
            "   7.  8.  4.]\n",
            " [ 4.  7.  9.  6. 11.  6.  7.  8.  6.  7.  8.  5.  5.  5.  5.  6.  6.  6.\n",
            "   7.  7.  7.]\n",
            " [ 3.  7.  9.  4. 12.  5. 10.  9.  2.  7. 10.  6.  5.  7.  4.  5.  6.  4.\n",
            "   8.  7.  4.]\n",
            " [ 5.  7.  9.  4. 12.  5.  8.  8.  4.  7.  9.  6.  6.  6.  5.  6.  6.  4.\n",
            "   8.  8.  4.]\n",
            " [ 6.  5.  7.  6. 10.  6.  9.  7.  6.  6.  9.  5.  7.  7.  6.  6.  7.  5.\n",
            "   8.  9.  6.]\n",
            " [ 5.  6.  9.  4. 12.  5.  9.  9.  3.  6. 10.  5.  6.  7.  5.  6.  5.  2.\n",
            "   7.  8.  3.]\n",
            " [ 5.  7.  9.  4. 12.  5.  8.  8.  4.  7.  9.  6.  6.  6.  5.  6.  6.  4.\n",
            "   8.  8.  4.]\n",
            " [ 7.  7.  9.  6.  9.  6.  7.  9.  7.  8. 10.  7.  7.  8.  7.  5.  7.  6.\n",
            "   7.  7.  6.]\n",
            " [ 5.  7.  9.  4. 12.  5.  8.  8.  3.  7.  8.  5.  6.  7.  4.  6.  6.  3.\n",
            "   7.  7.  3.]\n",
            " [ 5.  7.  9.  4. 12.  5. 10.  9.  2.  7. 11.  6.  7.  8.  5.  6.  6.  2.\n",
            "   7.  9.  3.]\n",
            " [ 2.  6.  8.  5. 11.  4.  9.  9.  5.  8. 10.  6.  6.  6.  4.  5.  6.  4.\n",
            "   6.  7.  6.]\n",
            " [ 5.  6. 10.  5. 12.  5.  8.  9.  5.  6. 10.  6.  7.  8.  5.  4.  7.  4.\n",
            "   7.  8.  3.]\n",
            " [ 5.  7.  9.  4. 12.  5.  8.  8.  4.  7.  9.  6.  6.  6.  5.  6.  6.  4.\n",
            "   8.  8.  4.]\n",
            " [ 7.  6.  8.  6. 10.  6.  6.  9.  8.  8.  6.  7.  6.  7.  7.  8.  6.  7.\n",
            "   8.  8.  8.]\n",
            " [ 5.  6.  9.  4. 12.  5.  9.  9.  4.  7.  9.  5.  7.  6.  4.  6.  7.  3.\n",
            "   6.  8.  4.]\n",
            " [ 7.  6.  9.  5. 12.  6.  5.  8.  7.  6.  5.  6.  6.  7.  6.  7.  7.  7.\n",
            "   8.  8.  7.]]\n",
            ".......................................................................\n",
            "FilteredWords\n",
            "Edit Distance Count: 0: 0, 1: 0, 2: 4, 3: 14\n",
            "StemmedWords\n",
            "Edit Distance Count: 0: 0, 1: 0, 2: 8, 3: 21\n"
          ]
        }
      ]
    },
    {
      "cell_type": "code",
      "source": [
        ""
      ],
      "metadata": {
        "id": "N0goNmnW69OH"
      },
      "execution_count": null,
      "outputs": []
    }
  ]
}