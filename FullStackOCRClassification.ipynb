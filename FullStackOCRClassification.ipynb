{
  "nbformat": 4,
  "nbformat_minor": 0,
  "metadata": {
    "colab": {
      "name": "FullStackOCRClassification.ipynb",
      "provenance": []
    },
    "kernelspec": {
      "name": "python3",
      "display_name": "Python 3"
    },
    "language_info": {
      "name": "python"
    }
  },
  "cells": [
    {
      "cell_type": "markdown",
      "source": [
        "# **Full Stack: Upload a PDF for Edit Distance Matrix**"
      ],
      "metadata": {
        "id": "b5tSzGj4b2JS"
      }
    },
    {
      "cell_type": "code",
      "execution_count": 12,
      "metadata": {
        "colab": {
          "base_uri": "https://localhost:8080/"
        },
        "id": "bUAhacVaxHOh",
        "outputId": "58318e2c-036c-4594-d915-40261dc17575"
      },
      "outputs": [
        {
          "output_type": "stream",
          "name": "stdout",
          "text": [
            "Reading package lists... Done\n",
            "Building dependency tree       \n",
            "Reading state information... Done\n",
            "poppler-utils is already the newest version (0.62.0-2ubuntu2.12).\n",
            "The following package was automatically installed and is no longer required:\n",
            "  libnvidia-common-460\n",
            "Use 'apt autoremove' to remove it.\n",
            "0 upgraded, 0 newly installed, 0 to remove and 49 not upgraded.\n",
            "Looking in indexes: https://pypi.org/simple, https://us-python.pkg.dev/colab-wheels/public/simple/\n",
            "Requirement already satisfied: pdf2image in /usr/local/lib/python3.7/dist-packages (1.16.0)\n",
            "Requirement already satisfied: pillow in /usr/local/lib/python3.7/dist-packages (from pdf2image) (9.2.0)\n",
            "Reading package lists... Done\n",
            "Building dependency tree       \n",
            "Reading state information... Done\n",
            "tesseract-ocr is already the newest version (4.00~git2288-10f4998a-2).\n",
            "The following package was automatically installed and is no longer required:\n",
            "  libnvidia-common-460\n",
            "Use 'sudo apt autoremove' to remove it.\n",
            "0 upgraded, 0 newly installed, 0 to remove and 49 not upgraded.\n",
            "Looking in indexes: https://pypi.org/simple, https://us-python.pkg.dev/colab-wheels/public/simple/\n",
            "Requirement already satisfied: pytesseract in /usr/local/lib/python3.7/dist-packages (0.3.9)\n",
            "Requirement already satisfied: packaging>=21.3 in /usr/local/lib/python3.7/dist-packages (from pytesseract) (21.3)\n",
            "Requirement already satisfied: Pillow>=8.0.0 in /usr/local/lib/python3.7/dist-packages (from pytesseract) (9.2.0)\n",
            "Requirement already satisfied: pyparsing!=3.0.5,>=2.0.2 in /usr/local/lib/python3.7/dist-packages (from packaging>=21.3->pytesseract) (3.0.9)\n",
            "Looking in indexes: https://pypi.org/simple, https://us-python.pkg.dev/colab-wheels/public/simple/\n",
            "Requirement already satisfied: pdf2image in /usr/local/lib/python3.7/dist-packages (1.16.0)\n",
            "Requirement already satisfied: pillow in /usr/local/lib/python3.7/dist-packages (from pdf2image) (9.2.0)\n",
            "Looking in indexes: https://pypi.org/simple, https://us-python.pkg.dev/colab-wheels/public/simple/\n",
            "Requirement already satisfied: nltk in /usr/local/lib/python3.7/dist-packages (3.7)\n",
            "Requirement already satisfied: regex>=2021.8.3 in /usr/local/lib/python3.7/dist-packages (from nltk) (2022.6.2)\n",
            "Requirement already satisfied: click in /usr/local/lib/python3.7/dist-packages (from nltk) (7.1.2)\n",
            "Requirement already satisfied: joblib in /usr/local/lib/python3.7/dist-packages (from nltk) (1.1.0)\n",
            "Requirement already satisfied: tqdm in /usr/local/lib/python3.7/dist-packages (from nltk) (4.64.0)\n",
            "Looking in indexes: https://pypi.org/simple, https://us-python.pkg.dev/colab-wheels/public/simple/\n",
            "Requirement already satisfied: python-Levenshtein in /usr/local/lib/python3.7/dist-packages (0.12.2)\n",
            "Requirement already satisfied: setuptools in /usr/local/lib/python3.7/dist-packages (from python-Levenshtein) (57.4.0)\n"
          ]
        }
      ],
      "source": [
        "# pdf2image\n",
        "!apt-get install poppler-utils\n",
        "!pip install pdf2image\n",
        "# OCR\n",
        "!sudo apt install tesseract-ocr\n",
        "!pip install pytesseract\n",
        "!pip install pdf2image\n",
        "# Edit Distance\n",
        "!pip install nltk\n",
        "!pip install python-Levenshtein"
      ]
    },
    {
      "cell_type": "code",
      "source": [
        "from PIL import Image\n",
        "import pdf2image\n",
        "from pdf2image import convert_from_path\n",
        "import time\n",
        "import pytesseract\n",
        "from google.colab import files\n",
        "import IPython.display as display\n",
        "from Levenshtein import distance as lev\n",
        "import nltk\n",
        "nltk.download('punkt')\n",
        "nltk.download('stopwords')\n",
        "# nltk.download('wordnet')\n",
        "# nltk.download('omw-1.4')\n",
        "import string\n",
        "import numpy as np\n",
        "from nltk import word_tokenize\n",
        "from nltk.corpus import stopwords\n",
        "from sklearn.feature_extraction.text import CountVectorizer\n",
        "# from nltk.stem import WordNetLemmatizer"
      ],
      "metadata": {
        "colab": {
          "base_uri": "https://localhost:8080/"
        },
        "id": "dXwa0MfCxk3B",
        "outputId": "13925dfd-0dad-4266-c67e-271f6816eccd"
      },
      "execution_count": 13,
      "outputs": [
        {
          "output_type": "stream",
          "name": "stderr",
          "text": [
            "[nltk_data] Downloading package punkt to /root/nltk_data...\n",
            "[nltk_data]   Package punkt is already up-to-date!\n",
            "[nltk_data] Downloading package stopwords to /root/nltk_data...\n",
            "[nltk_data]   Package stopwords is already up-to-date!\n"
          ]
        }
      ]
    },
    {
      "cell_type": "markdown",
      "source": [
        "## Upload PDF to convert to JPEG"
      ],
      "metadata": {
        "id": "X4RnU7qccDRz"
      }
    },
    {
      "cell_type": "code",
      "source": [
        "# Upload PDF if not already at current path\n",
        "uploaded = files.upload()"
      ],
      "metadata": {
        "colab": {
          "resources": {
            "http://localhost:8080/nbextensions/google.colab/files.js": {
              "data": "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",
              "ok": true,
              "headers": [
                [
                  "content-type",
                  "application/javascript"
                ]
              ],
              "status": 200,
              "status_text": ""
            }
          },
          "base_uri": "https://localhost:8080/",
          "height": 74
        },
        "id": "I2tEPdzacXDb",
        "outputId": "9c336a03-75cf-4523-8aba-9336ecc76ce0"
      },
      "execution_count": 3,
      "outputs": [
        {
          "output_type": "display_data",
          "data": {
            "text/plain": [
              "<IPython.core.display.HTML object>"
            ],
            "text/html": [
              "\n",
              "     <input type=\"file\" id=\"files-0c0e12ff-ccab-429a-b8d5-bc8d9b881227\" name=\"files[]\" multiple disabled\n",
              "        style=\"border:none\" />\n",
              "     <output id=\"result-0c0e12ff-ccab-429a-b8d5-bc8d9b881227\">\n",
              "      Upload widget is only available when the cell has been executed in the\n",
              "      current browser session. Please rerun this cell to enable.\n",
              "      </output>\n",
              "      <script src=\"/nbextensions/google.colab/files.js\"></script> "
            ]
          },
          "metadata": {}
        },
        {
          "output_type": "stream",
          "name": "stdout",
          "text": [
            "Saving 8d133367-81c3-4f97-b24f-38f6ef3f11371.pdf to 8d133367-81c3-4f97-b24f-38f6ef3f11371.pdf\n"
          ]
        }
      ]
    },
    {
      "cell_type": "code",
      "source": [
        "# For counting time\n",
        "start_time = time.time()\n",
        "\n",
        "# File name\n",
        "images = convert_from_path('8d133367-81c3-4f97-b24f-38f6ef3f11371.pdf')\n",
        "\n",
        "# Save the images page by page \n",
        "for i in range(len(images)):\n",
        "    images[i].save('page'+ str(i) +'.jpg', 'JPEG')\n",
        "    # To download the images, uncomment the line below\n",
        "    # files.download('page{}.jpg'.format(i))\n",
        "\n",
        "# Concatenate text from all pages in PDF\n",
        "corpus = \"\"\n",
        "\n",
        "for page in range(len(images)):\n",
        "    im = Image.open('page{}.jpg'.format(str(page)))\n",
        "    text = pytesseract.image_to_string(im)\n",
        "    corpus += text\n",
        "\n",
        "# print(corpus)"
      ],
      "metadata": {
        "id": "Ve-QBXw8xwDi"
      },
      "execution_count": 18,
      "outputs": []
    },
    {
      "cell_type": "markdown",
      "source": [
        "## Define the Keywords for Levenshein Matrix"
      ],
      "metadata": {
        "id": "Dl4ABSBldooS"
      }
    },
    {
      "cell_type": "code",
      "source": [
        "# Define the Keywords for Levenshtein Distance\n",
        "keywords = {\n",
        "\"AST_Task2\":[\"covid\",\n",
        "\"vaccine\", \n",
        "\"production\", \n",
        "\"mrna\",\n",
        "\"manufacturing\",\n",
        "\"chain\",\n",
        "\"management\", \n",
        "\"operations\", \n",
        "\"rd\", \n",
        "\"research\", \n",
        "\"development\",\n",
        "\"pfizer\",\n",
        "\"moderna\",\n",
        "\"biontech\",\n",
        "\"lonza\",\n",
        "\"sanofi\", \n",
        "\"curevac\", \n",
        "\"csl\",\n",
        "\"luniabio\", \n",
        "\"knowledge\", \n",
        "\"gap\"], \n",
        "\"AST_Task3\":\n",
        "[\"covid\",\n",
        "\"vaccine\", \n",
        "\"production\", \n",
        "\"mrna\",\n",
        "\"manufacturing\",\n",
        "\"chain\",\n",
        "\"management\", \n",
        "\"operations\", \n",
        "\"rd\", \n",
        "\"research\", \n",
        "\"development\",\n",
        "\"pfizer\",\n",
        "\"moderna\",\n",
        "\"biontech\",\n",
        "\"lonza\",\n",
        "\"sanofi\", \n",
        "\"curevac\", \n",
        "\"csl\",\n",
        "\"luniabio\", \n",
        "\"knowledge\", \n",
        "\"gap\"], \n",
        "\"AST_Task4\":\n",
        "[\"alpha\",\n",
        "\"sights\",\n",
        "\"mr\",\n",
        "\"ms\",\n",
        "\"dr\",\n",
        "\"prof\",\n",
        "\"sir\",\n",
        "\"madam\",\n",
        "\"alphasights\",\n",
        "\"dear\",\n",
        "\"concern\",\n",
        "\"yours\",\n",
        "\"truly\",\n",
        "\"faithfully\",\n",
        "\"sincerely\",\n",
        "\"regards\",\n",
        "\"project\",\n",
        "\"covid\",\n",
        "\"manufacture\",\n",
        "\"mrna\",\n",
        "\"vaccine\",\n",
        "\"consultation\", \n",
        "\"call\",\n",
        "\"chain\",\n",
        "\"management\", \n",
        "\"operations\",\n",
        "\"rd\", \n",
        "\"research\"\n",
        "]}"
      ],
      "metadata": {
        "id": "etTuIyl_dnbz"
      },
      "execution_count": 19,
      "outputs": []
    },
    {
      "cell_type": "markdown",
      "source": [
        "Edit Distance Matrix"
      ],
      "metadata": {
        "id": "wMEF4T5Vgwit"
      }
    },
    {
      "cell_type": "code",
      "source": [
        "# Lowercase\n",
        "corpus = corpus.lower()\n",
        "\n",
        "# Punctuations\n",
        "corpus_alpha = \"\".join([char for char in corpus if char not in string.punctuation])\n",
        "\n",
        "# Tokenization\n",
        "words = word_tokenize(corpus_alpha)\n",
        "\n",
        "# Stopword Filtering\n",
        "stop_words = set(stopwords.words('english'))\n",
        "filteredWords = [word for word in words if not word in stop_words]\n",
        "# print(filteredWords)\n",
        "\n",
        "# Lemmatization \n",
        "# lemmatizer = WordNetLemmatizer()\n",
        "# List Unhashable\n",
        "# filteredWords = lemmatizer.lemmatize(filteredWords)\n",
        "\n",
        "count0words = []\n",
        "count1words = []\n",
        "count2words = []\n",
        "count0=0\n",
        "count1=0\n",
        "count2=0\n",
        "\n",
        "levMatrix = np.zeros((len(filteredWords),len(keywords['AST_Task2'])))\n",
        "for text_word in range(len(filteredWords)):\n",
        "  for key_word in range(len(keywords['AST_Task2'])):\n",
        "    lev_dist = lev(filteredWords[text_word], keywords['AST_Task2'][key_word])\n",
        "    levMatrix[text_word][key_word] = lev_dist\n",
        "    if lev_dist == 0:\n",
        "      count0words.append(filteredWords[text_word])\n",
        "      count0 += 1\n",
        "    if lev_dist == 1:\n",
        "      count1words.append(filteredWords[text_word])\n",
        "      count1 += 1\n",
        "    if lev_dist == 2:\n",
        "      count2 += 1\n",
        "      count2words.append(filteredWords[text_word])\n",
        "\n",
        "print(\"--- %s seconds --- for %s pages\" % (time.time() - start_time, len(images)))\n",
        "print(filteredWords)\n",
        "print(np.matrix(levMatrix))\n",
        "print(\"Edit Distance Count: 0: {}, 1: {}, 2: {}\".format(count0, count1, count2))\n",
        "print(count0words)\n",
        "print(count1words)\n",
        "print(count2words)"
      ],
      "metadata": {
        "colab": {
          "base_uri": "https://localhost:8080/"
        },
        "id": "q_YzQf0Yd0dr",
        "outputId": "a3771cff-d2b2-4d3e-f2cb-c5fa82dc95c3"
      },
      "execution_count": 20,
      "outputs": [
        {
          "output_type": "stream",
          "name": "stdout",
          "text": [
            "--- 6.283170461654663 seconds --- for 2 pages\n",
            "['knowledge', 'gap', 'technical', 'stages', 'mass', 'production', 'vaccines', 'alternative', 'methods', 'culture', 'stage', 'vaccine', 'production', 'process', 'design', 'meet', 'current', 'good', 'manufacture', 'practices', 'cgmp', 'implementation', 'cold', 'chain', 'freshkeeping', 'technology', 'safety', 'requirements', 'vaccine', 'producers', 'infected', 'virus', 'development', 'prospects', 'scope', 'application', 'vaccines', 'comparative', 'advantages', 'manufacturers', 'capital', 'input', 'expected', 'cost', 'initial', 'production', 'possibility', 'achieving', 'global', 'largescale', 'production', 'year', 'half', 'key', 'players', 'covid', 'vaccine', 'manufacturing', 'procurement', 'personnel', 'responsible', 'purchasing', 'important', 'raw', 'materials', 'culture', 'medium', 'syringes', 'vaccine', 'production', 'production', 'staff', 'works', 'shifts', 'produce', 'mrna', 'vaccine', 'low', 'pressure', 'package', 'vaccine', 'suppliers', 'based', 'efficiency', 'machinery', 'packaging', 'staff', 'mark', 'storage', 'conditions', 'production', 'date', 'applicable', 'population', 'vaccine', 'batches', 'distribution', 'logistics', 'department', 'personnel', 'responsible', 'raw', 'material', 'warehouse', 'management', 'workshop', 'scheduling', 'connection', 'suppliers', 'consumption', 'sales', 'team', 'committed', 'finding', 'hospitals', 'meet', 'health', 'medical', 'conditions', 'potential', 'customers', 'provide', 'vaccines', 'pricing', 'team', 'members', 'establish', 'market', 'prices', 'investigating', 'market', 'prices', 'receiving', 'price', 'manufacturers', 'manufacturing', 'profit', 'generation', 'value', 'chain', 'diagram']\n",
            "[[ 7.  8.  9. ...  9.  0.  9.]\n",
            " [ 5.  6. 10. ...  7.  9.  0.]\n",
            " [ 7.  7. 10. ...  8.  9.  8.]\n",
            " ...\n",
            " [ 5.  4.  9. ...  7.  7.  4.]\n",
            " [ 3.  5.  8. ...  6.  9.  4.]\n",
            " [ 7.  7.  9. ...  7.  9.  5.]]\n",
            "Edit Distance Count: 0: 24, 1: 3, 2: 8\n",
            "['knowledge', 'gap', 'production', 'vaccine', 'production', 'chain', 'vaccine', 'development', 'production', 'production', 'covid', 'vaccine', 'manufacturing', 'vaccine', 'production', 'production', 'mrna', 'vaccine', 'vaccine', 'production', 'vaccine', 'management', 'manufacturing', 'chain']\n",
            "['vaccines', 'vaccines', 'vaccines']\n",
            "['cgmp', 'cold', 'cold', 'cost', 'raw', 'raw', 'raw', 'raw']\n"
          ]
        }
      ]
    }
  ]
}